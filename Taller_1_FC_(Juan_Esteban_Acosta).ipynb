{
  "nbformat": 4,
  "nbformat_minor": 0,
  "metadata": {
    "colab": {
      "name": "Taller #1 FC (Juan Esteban Acosta)",
      "provenance": [],
      "collapsed_sections": []
    },
    "kernelspec": {
      "name": "python3",
      "display_name": "Python 3"
    },
    "language_info": {
      "name": "python"
    }
  },
  "cells": [
    {
      "cell_type": "code",
      "execution_count": 4,
      "metadata": {
        "colab": {
          "base_uri": "https://localhost:8080/"
        },
        "id": "z6sEdXBChcuL",
        "outputId": "e54ba1c5-78c3-4c6d-abe9-bd23bcb4bf0d"
      },
      "outputs": [
        {
          "output_type": "stream",
          "name": "stdout",
          "text": [
            "Looking in indexes: https://pypi.org/simple, https://us-python.pkg.dev/colab-wheels/public/simple/\n",
            "Collecting yfinance\n",
            "  Downloading yfinance-0.1.74-py2.py3-none-any.whl (27 kB)\n",
            "Requirement already satisfied: pandas>=0.24.0 in /usr/local/lib/python3.7/dist-packages (from yfinance) (1.3.5)\n",
            "Requirement already satisfied: numpy>=1.15 in /usr/local/lib/python3.7/dist-packages (from yfinance) (1.21.6)\n",
            "Requirement already satisfied: multitasking>=0.0.7 in /usr/local/lib/python3.7/dist-packages (from yfinance) (0.0.11)\n",
            "Collecting requests>=2.26\n",
            "  Downloading requests-2.28.1-py3-none-any.whl (62 kB)\n",
            "\u001b[K     |████████████████████████████████| 62 kB 1.1 MB/s \n",
            "\u001b[?25hRequirement already satisfied: lxml>=4.5.1 in /usr/local/lib/python3.7/dist-packages (from yfinance) (4.9.1)\n",
            "Requirement already satisfied: pytz>=2017.3 in /usr/local/lib/python3.7/dist-packages (from pandas>=0.24.0->yfinance) (2022.2.1)\n",
            "Requirement already satisfied: python-dateutil>=2.7.3 in /usr/local/lib/python3.7/dist-packages (from pandas>=0.24.0->yfinance) (2.8.2)\n",
            "Requirement already satisfied: six>=1.5 in /usr/local/lib/python3.7/dist-packages (from python-dateutil>=2.7.3->pandas>=0.24.0->yfinance) (1.15.0)\n",
            "Requirement already satisfied: charset-normalizer<3,>=2 in /usr/local/lib/python3.7/dist-packages (from requests>=2.26->yfinance) (2.1.0)\n",
            "Requirement already satisfied: urllib3<1.27,>=1.21.1 in /usr/local/lib/python3.7/dist-packages (from requests>=2.26->yfinance) (1.24.3)\n",
            "Requirement already satisfied: idna<4,>=2.5 in /usr/local/lib/python3.7/dist-packages (from requests>=2.26->yfinance) (2.10)\n",
            "Requirement already satisfied: certifi>=2017.4.17 in /usr/local/lib/python3.7/dist-packages (from requests>=2.26->yfinance) (2022.6.15)\n",
            "Installing collected packages: requests, yfinance\n",
            "  Attempting uninstall: requests\n",
            "    Found existing installation: requests 2.23.0\n",
            "    Uninstalling requests-2.23.0:\n",
            "      Successfully uninstalled requests-2.23.0\n",
            "Successfully installed requests-2.28.1 yfinance-0.1.74\n"
          ]
        }
      ],
      "source": [
        "#Importar librerias \n",
        "import pandas as pd\n",
        "import numpy as np\n",
        "from scipy import stats\n",
        "from matplotlib import pyplot as plt\n",
        "import seaborn as sbn\n",
        "import warnings\n",
        "warnings.filterwarnings(\"ignore\")\n",
        "!pip install yfinance \n",
        "import yfinance as yf"
      ]
    },
    {
      "cell_type": "markdown",
      "source": [
        ""
      ],
      "metadata": {
        "id": "05wOhqNyqRH3"
      }
    },
    {
      "cell_type": "markdown",
      "source": [
        "1. Descargue las series de tiempo de precios (ajustados) mensuales para el periodo Ene 2010 a Dic-2021 de las siguientes 4 acciones: MCD, GE, IBM, T. Con esta información:  \n"
      ],
      "metadata": {
        "id": "6esT7OqqqIJj"
      }
    },
    {
      "cell_type": "code",
      "source": [
        "# Precios históricos para los activos seleccionados\n",
        "activos = [\"MCD\", \"GE\",\"IBM\", \"T\"]\n",
        "precios = yf.download(activos,start=\"2010-01-01\",end=\"2021-12-31\")\n",
        "precios = precios.loc[:,\"Adj Close\"]\n",
        "precios#.plot()"
      ],
      "metadata": {
        "colab": {
          "base_uri": "https://localhost:8080/",
          "height": 472
        },
        "id": "5CUakRJ1pFyM",
        "outputId": "0d72fbd9-e110-4be8-c532-515f5a296c37"
      },
      "execution_count": 6,
      "outputs": [
        {
          "output_type": "stream",
          "name": "stdout",
          "text": [
            "[*********************100%***********************]  4 of 4 completed\n"
          ]
        },
        {
          "output_type": "execute_result",
          "data": {
            "text/plain": [
              "                   GE         IBM         MCD          T\n",
              "Date                                                    \n",
              "2010-01-04  87.554321   82.284225   43.956013   8.221733\n",
              "2010-01-05  88.007675   81.290260   43.619938   8.181458\n",
              "2010-01-06  87.554321   80.762199   43.024803   8.101089\n",
              "2010-01-07  92.087852   80.482597   43.339874   8.010129\n",
              "2010-01-08  94.071327   81.290260   43.297863   7.951447\n",
              "...               ...         ...         ...        ...\n",
              "2021-12-23  93.803635  125.941460  263.021027  17.791782\n",
              "2021-12-27  94.422340  126.895920  265.285767  17.727392\n",
              "2021-12-28  95.100922  127.869675  264.929749  17.756008\n",
              "2021-12-29  94.591980  128.563843  265.533020  17.627239\n",
              "2021-12-30  94.502159  129.103729  264.267120  17.727392\n",
              "\n",
              "[3020 rows x 4 columns]"
            ],
            "text/html": [
              "\n",
              "  <div id=\"df-7ba0c566-0a4c-48da-a951-66d5e341df24\">\n",
              "    <div class=\"colab-df-container\">\n",
              "      <div>\n",
              "<style scoped>\n",
              "    .dataframe tbody tr th:only-of-type {\n",
              "        vertical-align: middle;\n",
              "    }\n",
              "\n",
              "    .dataframe tbody tr th {\n",
              "        vertical-align: top;\n",
              "    }\n",
              "\n",
              "    .dataframe thead th {\n",
              "        text-align: right;\n",
              "    }\n",
              "</style>\n",
              "<table border=\"1\" class=\"dataframe\">\n",
              "  <thead>\n",
              "    <tr style=\"text-align: right;\">\n",
              "      <th></th>\n",
              "      <th>GE</th>\n",
              "      <th>IBM</th>\n",
              "      <th>MCD</th>\n",
              "      <th>T</th>\n",
              "    </tr>\n",
              "    <tr>\n",
              "      <th>Date</th>\n",
              "      <th></th>\n",
              "      <th></th>\n",
              "      <th></th>\n",
              "      <th></th>\n",
              "    </tr>\n",
              "  </thead>\n",
              "  <tbody>\n",
              "    <tr>\n",
              "      <th>2010-01-04</th>\n",
              "      <td>87.554321</td>\n",
              "      <td>82.284225</td>\n",
              "      <td>43.956013</td>\n",
              "      <td>8.221733</td>\n",
              "    </tr>\n",
              "    <tr>\n",
              "      <th>2010-01-05</th>\n",
              "      <td>88.007675</td>\n",
              "      <td>81.290260</td>\n",
              "      <td>43.619938</td>\n",
              "      <td>8.181458</td>\n",
              "    </tr>\n",
              "    <tr>\n",
              "      <th>2010-01-06</th>\n",
              "      <td>87.554321</td>\n",
              "      <td>80.762199</td>\n",
              "      <td>43.024803</td>\n",
              "      <td>8.101089</td>\n",
              "    </tr>\n",
              "    <tr>\n",
              "      <th>2010-01-07</th>\n",
              "      <td>92.087852</td>\n",
              "      <td>80.482597</td>\n",
              "      <td>43.339874</td>\n",
              "      <td>8.010129</td>\n",
              "    </tr>\n",
              "    <tr>\n",
              "      <th>2010-01-08</th>\n",
              "      <td>94.071327</td>\n",
              "      <td>81.290260</td>\n",
              "      <td>43.297863</td>\n",
              "      <td>7.951447</td>\n",
              "    </tr>\n",
              "    <tr>\n",
              "      <th>...</th>\n",
              "      <td>...</td>\n",
              "      <td>...</td>\n",
              "      <td>...</td>\n",
              "      <td>...</td>\n",
              "    </tr>\n",
              "    <tr>\n",
              "      <th>2021-12-23</th>\n",
              "      <td>93.803635</td>\n",
              "      <td>125.941460</td>\n",
              "      <td>263.021027</td>\n",
              "      <td>17.791782</td>\n",
              "    </tr>\n",
              "    <tr>\n",
              "      <th>2021-12-27</th>\n",
              "      <td>94.422340</td>\n",
              "      <td>126.895920</td>\n",
              "      <td>265.285767</td>\n",
              "      <td>17.727392</td>\n",
              "    </tr>\n",
              "    <tr>\n",
              "      <th>2021-12-28</th>\n",
              "      <td>95.100922</td>\n",
              "      <td>127.869675</td>\n",
              "      <td>264.929749</td>\n",
              "      <td>17.756008</td>\n",
              "    </tr>\n",
              "    <tr>\n",
              "      <th>2021-12-29</th>\n",
              "      <td>94.591980</td>\n",
              "      <td>128.563843</td>\n",
              "      <td>265.533020</td>\n",
              "      <td>17.627239</td>\n",
              "    </tr>\n",
              "    <tr>\n",
              "      <th>2021-12-30</th>\n",
              "      <td>94.502159</td>\n",
              "      <td>129.103729</td>\n",
              "      <td>264.267120</td>\n",
              "      <td>17.727392</td>\n",
              "    </tr>\n",
              "  </tbody>\n",
              "</table>\n",
              "<p>3020 rows × 4 columns</p>\n",
              "</div>\n",
              "      <button class=\"colab-df-convert\" onclick=\"convertToInteractive('df-7ba0c566-0a4c-48da-a951-66d5e341df24')\"\n",
              "              title=\"Convert this dataframe to an interactive table.\"\n",
              "              style=\"display:none;\">\n",
              "        \n",
              "  <svg xmlns=\"http://www.w3.org/2000/svg\" height=\"24px\"viewBox=\"0 0 24 24\"\n",
              "       width=\"24px\">\n",
              "    <path d=\"M0 0h24v24H0V0z\" fill=\"none\"/>\n",
              "    <path d=\"M18.56 5.44l.94 2.06.94-2.06 2.06-.94-2.06-.94-.94-2.06-.94 2.06-2.06.94zm-11 1L8.5 8.5l.94-2.06 2.06-.94-2.06-.94L8.5 2.5l-.94 2.06-2.06.94zm10 10l.94 2.06.94-2.06 2.06-.94-2.06-.94-.94-2.06-.94 2.06-2.06.94z\"/><path d=\"M17.41 7.96l-1.37-1.37c-.4-.4-.92-.59-1.43-.59-.52 0-1.04.2-1.43.59L10.3 9.45l-7.72 7.72c-.78.78-.78 2.05 0 2.83L4 21.41c.39.39.9.59 1.41.59.51 0 1.02-.2 1.41-.59l7.78-7.78 2.81-2.81c.8-.78.8-2.07 0-2.86zM5.41 20L4 18.59l7.72-7.72 1.47 1.35L5.41 20z\"/>\n",
              "  </svg>\n",
              "      </button>\n",
              "      \n",
              "  <style>\n",
              "    .colab-df-container {\n",
              "      display:flex;\n",
              "      flex-wrap:wrap;\n",
              "      gap: 12px;\n",
              "    }\n",
              "\n",
              "    .colab-df-convert {\n",
              "      background-color: #E8F0FE;\n",
              "      border: none;\n",
              "      border-radius: 50%;\n",
              "      cursor: pointer;\n",
              "      display: none;\n",
              "      fill: #1967D2;\n",
              "      height: 32px;\n",
              "      padding: 0 0 0 0;\n",
              "      width: 32px;\n",
              "    }\n",
              "\n",
              "    .colab-df-convert:hover {\n",
              "      background-color: #E2EBFA;\n",
              "      box-shadow: 0px 1px 2px rgba(60, 64, 67, 0.3), 0px 1px 3px 1px rgba(60, 64, 67, 0.15);\n",
              "      fill: #174EA6;\n",
              "    }\n",
              "\n",
              "    [theme=dark] .colab-df-convert {\n",
              "      background-color: #3B4455;\n",
              "      fill: #D2E3FC;\n",
              "    }\n",
              "\n",
              "    [theme=dark] .colab-df-convert:hover {\n",
              "      background-color: #434B5C;\n",
              "      box-shadow: 0px 1px 3px 1px rgba(0, 0, 0, 0.15);\n",
              "      filter: drop-shadow(0px 1px 2px rgba(0, 0, 0, 0.3));\n",
              "      fill: #FFFFFF;\n",
              "    }\n",
              "  </style>\n",
              "\n",
              "      <script>\n",
              "        const buttonEl =\n",
              "          document.querySelector('#df-7ba0c566-0a4c-48da-a951-66d5e341df24 button.colab-df-convert');\n",
              "        buttonEl.style.display =\n",
              "          google.colab.kernel.accessAllowed ? 'block' : 'none';\n",
              "\n",
              "        async function convertToInteractive(key) {\n",
              "          const element = document.querySelector('#df-7ba0c566-0a4c-48da-a951-66d5e341df24');\n",
              "          const dataTable =\n",
              "            await google.colab.kernel.invokeFunction('convertToInteractive',\n",
              "                                                     [key], {});\n",
              "          if (!dataTable) return;\n",
              "\n",
              "          const docLinkHtml = 'Like what you see? Visit the ' +\n",
              "            '<a target=\"_blank\" href=https://colab.research.google.com/notebooks/data_table.ipynb>data table notebook</a>'\n",
              "            + ' to learn more about interactive tables.';\n",
              "          element.innerHTML = '';\n",
              "          dataTable['output_type'] = 'display_data';\n",
              "          await google.colab.output.renderOutput(dataTable, element);\n",
              "          const docLink = document.createElement('div');\n",
              "          docLink.innerHTML = docLinkHtml;\n",
              "          element.appendChild(docLink);\n",
              "        }\n",
              "      </script>\n",
              "    </div>\n",
              "  </div>\n",
              "  "
            ]
          },
          "metadata": {},
          "execution_count": 6
        }
      ]
    },
    {
      "cell_type": "markdown",
      "source": [
        "a. Calcule los retornos logarítmicos. "
      ],
      "metadata": {
        "id": "Bi6OhCfVqaBC"
      }
    },
    {
      "cell_type": "code",
      "source": [
        "retornos=np.log(precios/precios.shift()).dropna()\n",
        "retornos"
      ],
      "metadata": {
        "colab": {
          "base_uri": "https://localhost:8080/",
          "height": 455
        },
        "id": "pu-477ocqE9x",
        "outputId": "4c168c8f-4930-4fcb-d727-e38f884a9015"
      },
      "execution_count": 7,
      "outputs": [
        {
          "output_type": "execute_result",
          "data": {
            "text/plain": [
              "                  GE       IBM       MCD         T\n",
              "Date                                              \n",
              "2010-01-05  0.005165 -0.012153 -0.007675 -0.004911\n",
              "2010-01-06 -0.005165 -0.006517 -0.013738 -0.009872\n",
              "2010-01-07  0.050484 -0.003468  0.007296 -0.011292\n",
              "2010-01-08  0.021310  0.009985 -0.000970 -0.007353\n",
              "2010-01-11  0.009592 -0.010526  0.007732 -0.004808\n",
              "...              ...       ...       ...       ...\n",
              "2021-12-23  0.009943  0.006759  0.003805  0.003626\n",
              "2021-12-27  0.006574  0.007550  0.008574 -0.003626\n",
              "2021-12-28  0.007161  0.007644 -0.001343  0.001613\n",
              "2021-12-29 -0.005366  0.005414  0.002275 -0.007279\n",
              "2021-12-30 -0.000950  0.004191 -0.004779  0.005666\n",
              "\n",
              "[3019 rows x 4 columns]"
            ],
            "text/html": [
              "\n",
              "  <div id=\"df-8a50a21a-b5c9-43de-aa55-5076cd1e2cc6\">\n",
              "    <div class=\"colab-df-container\">\n",
              "      <div>\n",
              "<style scoped>\n",
              "    .dataframe tbody tr th:only-of-type {\n",
              "        vertical-align: middle;\n",
              "    }\n",
              "\n",
              "    .dataframe tbody tr th {\n",
              "        vertical-align: top;\n",
              "    }\n",
              "\n",
              "    .dataframe thead th {\n",
              "        text-align: right;\n",
              "    }\n",
              "</style>\n",
              "<table border=\"1\" class=\"dataframe\">\n",
              "  <thead>\n",
              "    <tr style=\"text-align: right;\">\n",
              "      <th></th>\n",
              "      <th>GE</th>\n",
              "      <th>IBM</th>\n",
              "      <th>MCD</th>\n",
              "      <th>T</th>\n",
              "    </tr>\n",
              "    <tr>\n",
              "      <th>Date</th>\n",
              "      <th></th>\n",
              "      <th></th>\n",
              "      <th></th>\n",
              "      <th></th>\n",
              "    </tr>\n",
              "  </thead>\n",
              "  <tbody>\n",
              "    <tr>\n",
              "      <th>2010-01-05</th>\n",
              "      <td>0.005165</td>\n",
              "      <td>-0.012153</td>\n",
              "      <td>-0.007675</td>\n",
              "      <td>-0.004911</td>\n",
              "    </tr>\n",
              "    <tr>\n",
              "      <th>2010-01-06</th>\n",
              "      <td>-0.005165</td>\n",
              "      <td>-0.006517</td>\n",
              "      <td>-0.013738</td>\n",
              "      <td>-0.009872</td>\n",
              "    </tr>\n",
              "    <tr>\n",
              "      <th>2010-01-07</th>\n",
              "      <td>0.050484</td>\n",
              "      <td>-0.003468</td>\n",
              "      <td>0.007296</td>\n",
              "      <td>-0.011292</td>\n",
              "    </tr>\n",
              "    <tr>\n",
              "      <th>2010-01-08</th>\n",
              "      <td>0.021310</td>\n",
              "      <td>0.009985</td>\n",
              "      <td>-0.000970</td>\n",
              "      <td>-0.007353</td>\n",
              "    </tr>\n",
              "    <tr>\n",
              "      <th>2010-01-11</th>\n",
              "      <td>0.009592</td>\n",
              "      <td>-0.010526</td>\n",
              "      <td>0.007732</td>\n",
              "      <td>-0.004808</td>\n",
              "    </tr>\n",
              "    <tr>\n",
              "      <th>...</th>\n",
              "      <td>...</td>\n",
              "      <td>...</td>\n",
              "      <td>...</td>\n",
              "      <td>...</td>\n",
              "    </tr>\n",
              "    <tr>\n",
              "      <th>2021-12-23</th>\n",
              "      <td>0.009943</td>\n",
              "      <td>0.006759</td>\n",
              "      <td>0.003805</td>\n",
              "      <td>0.003626</td>\n",
              "    </tr>\n",
              "    <tr>\n",
              "      <th>2021-12-27</th>\n",
              "      <td>0.006574</td>\n",
              "      <td>0.007550</td>\n",
              "      <td>0.008574</td>\n",
              "      <td>-0.003626</td>\n",
              "    </tr>\n",
              "    <tr>\n",
              "      <th>2021-12-28</th>\n",
              "      <td>0.007161</td>\n",
              "      <td>0.007644</td>\n",
              "      <td>-0.001343</td>\n",
              "      <td>0.001613</td>\n",
              "    </tr>\n",
              "    <tr>\n",
              "      <th>2021-12-29</th>\n",
              "      <td>-0.005366</td>\n",
              "      <td>0.005414</td>\n",
              "      <td>0.002275</td>\n",
              "      <td>-0.007279</td>\n",
              "    </tr>\n",
              "    <tr>\n",
              "      <th>2021-12-30</th>\n",
              "      <td>-0.000950</td>\n",
              "      <td>0.004191</td>\n",
              "      <td>-0.004779</td>\n",
              "      <td>0.005666</td>\n",
              "    </tr>\n",
              "  </tbody>\n",
              "</table>\n",
              "<p>3019 rows × 4 columns</p>\n",
              "</div>\n",
              "      <button class=\"colab-df-convert\" onclick=\"convertToInteractive('df-8a50a21a-b5c9-43de-aa55-5076cd1e2cc6')\"\n",
              "              title=\"Convert this dataframe to an interactive table.\"\n",
              "              style=\"display:none;\">\n",
              "        \n",
              "  <svg xmlns=\"http://www.w3.org/2000/svg\" height=\"24px\"viewBox=\"0 0 24 24\"\n",
              "       width=\"24px\">\n",
              "    <path d=\"M0 0h24v24H0V0z\" fill=\"none\"/>\n",
              "    <path d=\"M18.56 5.44l.94 2.06.94-2.06 2.06-.94-2.06-.94-.94-2.06-.94 2.06-2.06.94zm-11 1L8.5 8.5l.94-2.06 2.06-.94-2.06-.94L8.5 2.5l-.94 2.06-2.06.94zm10 10l.94 2.06.94-2.06 2.06-.94-2.06-.94-.94-2.06-.94 2.06-2.06.94z\"/><path d=\"M17.41 7.96l-1.37-1.37c-.4-.4-.92-.59-1.43-.59-.52 0-1.04.2-1.43.59L10.3 9.45l-7.72 7.72c-.78.78-.78 2.05 0 2.83L4 21.41c.39.39.9.59 1.41.59.51 0 1.02-.2 1.41-.59l7.78-7.78 2.81-2.81c.8-.78.8-2.07 0-2.86zM5.41 20L4 18.59l7.72-7.72 1.47 1.35L5.41 20z\"/>\n",
              "  </svg>\n",
              "      </button>\n",
              "      \n",
              "  <style>\n",
              "    .colab-df-container {\n",
              "      display:flex;\n",
              "      flex-wrap:wrap;\n",
              "      gap: 12px;\n",
              "    }\n",
              "\n",
              "    .colab-df-convert {\n",
              "      background-color: #E8F0FE;\n",
              "      border: none;\n",
              "      border-radius: 50%;\n",
              "      cursor: pointer;\n",
              "      display: none;\n",
              "      fill: #1967D2;\n",
              "      height: 32px;\n",
              "      padding: 0 0 0 0;\n",
              "      width: 32px;\n",
              "    }\n",
              "\n",
              "    .colab-df-convert:hover {\n",
              "      background-color: #E2EBFA;\n",
              "      box-shadow: 0px 1px 2px rgba(60, 64, 67, 0.3), 0px 1px 3px 1px rgba(60, 64, 67, 0.15);\n",
              "      fill: #174EA6;\n",
              "    }\n",
              "\n",
              "    [theme=dark] .colab-df-convert {\n",
              "      background-color: #3B4455;\n",
              "      fill: #D2E3FC;\n",
              "    }\n",
              "\n",
              "    [theme=dark] .colab-df-convert:hover {\n",
              "      background-color: #434B5C;\n",
              "      box-shadow: 0px 1px 3px 1px rgba(0, 0, 0, 0.15);\n",
              "      filter: drop-shadow(0px 1px 2px rgba(0, 0, 0, 0.3));\n",
              "      fill: #FFFFFF;\n",
              "    }\n",
              "  </style>\n",
              "\n",
              "      <script>\n",
              "        const buttonEl =\n",
              "          document.querySelector('#df-8a50a21a-b5c9-43de-aa55-5076cd1e2cc6 button.colab-df-convert');\n",
              "        buttonEl.style.display =\n",
              "          google.colab.kernel.accessAllowed ? 'block' : 'none';\n",
              "\n",
              "        async function convertToInteractive(key) {\n",
              "          const element = document.querySelector('#df-8a50a21a-b5c9-43de-aa55-5076cd1e2cc6');\n",
              "          const dataTable =\n",
              "            await google.colab.kernel.invokeFunction('convertToInteractive',\n",
              "                                                     [key], {});\n",
              "          if (!dataTable) return;\n",
              "\n",
              "          const docLinkHtml = 'Like what you see? Visit the ' +\n",
              "            '<a target=\"_blank\" href=https://colab.research.google.com/notebooks/data_table.ipynb>data table notebook</a>'\n",
              "            + ' to learn more about interactive tables.';\n",
              "          element.innerHTML = '';\n",
              "          dataTable['output_type'] = 'display_data';\n",
              "          await google.colab.output.renderOutput(dataTable, element);\n",
              "          const docLink = document.createElement('div');\n",
              "          docLink.innerHTML = docLinkHtml;\n",
              "          element.appendChild(docLink);\n",
              "        }\n",
              "      </script>\n",
              "    </div>\n",
              "  </div>\n",
              "  "
            ]
          },
          "metadata": {},
          "execution_count": 7
        }
      ]
    },
    {
      "cell_type": "code",
      "source": [
        "retornos[\"MCD\"].hist(bins=28)\n",
        "retornos[\"GE\"].hist(bins=28)\n",
        "retornos[\"IBM\"].hist(bins=28)\n",
        "retornos[\"T\"].hist(bins=28)"
      ],
      "metadata": {
        "colab": {
          "base_uri": "https://localhost:8080/",
          "height": 282
        },
        "id": "NIG9Vi-Qq60r",
        "outputId": "e93eee1c-bd38-4d56-85bb-6f0c597f9398"
      },
      "execution_count": 13,
      "outputs": [
        {
          "output_type": "execute_result",
          "data": {
            "text/plain": [
              "<matplotlib.axes._subplots.AxesSubplot at 0x7f76df231790>"
            ]
          },
          "metadata": {},
          "execution_count": 13
        },
        {
          "output_type": "display_data",
          "data": {
            "text/plain": [
              "<Figure size 432x288 with 1 Axes>"
            ],
            "image/png": "[encoded data removed]"
          },
          "metadata": {
            "needs_background": "light"
          }
        }
      ]
    },
    {
      "cell_type": "code",
      "source": [
        "# Info de las series\n",
        "retornos.describe()"
      ],
      "metadata": {
        "colab": {
          "base_uri": "https://localhost:8080/",
          "height": 300
        },
        "id": "sEN08YB1rp1G",
        "outputId": "fc16f921-509d-4419-930a-e4f59af58723"
      },
      "execution_count": 14,
      "outputs": [
        {
          "output_type": "execute_result",
          "data": {
            "text/plain": [
              "                GE          IBM          MCD            T\n",
              "count  3019.000000  3019.000000  3019.000000  3019.000000\n",
              "mean      0.000025     0.000149     0.000594     0.000254\n",
              "std       0.019953     0.014189     0.011884     0.012152\n",
              "min      -0.164394    -0.137548    -0.172870    -0.096963\n",
              "25%      -0.008449    -0.006146    -0.004603    -0.005546\n",
              "50%       0.000000     0.000401     0.000832     0.000788\n",
              "75%       0.008441     0.006952     0.005989     0.006442\n",
              "max       0.137411     0.107068     0.166577     0.095513"
            ],
            "text/html": [
              "\n",
              "  <div id=\"df-5934a7f1-3afd-47a6-b121-6dacd88a4b25\">\n",
              "    <div class=\"colab-df-container\">\n",
              "      <div>\n",
              "<style scoped>\n",
              "    .dataframe tbody tr th:only-of-type {\n",
              "        vertical-align: middle;\n",
              "    }\n",
              "\n",
              "    .dataframe tbody tr th {\n",
              "        vertical-align: top;\n",
              "    }\n",
              "\n",
              "    .dataframe thead th {\n",
              "        text-align: right;\n",
              "    }\n",
              "</style>\n",
              "<table border=\"1\" class=\"dataframe\">\n",
              "  <thead>\n",
              "    <tr style=\"text-align: right;\">\n",
              "      <th></th>\n",
              "      <th>GE</th>\n",
              "      <th>IBM</th>\n",
              "      <th>MCD</th>\n",
              "      <th>T</th>\n",
              "    </tr>\n",
              "  </thead>\n",
              "  <tbody>\n",
              "    <tr>\n",
              "      <th>count</th>\n",
              "      <td>3019.000000</td>\n",
              "      <td>3019.000000</td>\n",
              "      <td>3019.000000</td>\n",
              "      <td>3019.000000</td>\n",
              "    </tr>\n",
              "    <tr>\n",
              "      <th>mean</th>\n",
              "      <td>0.000025</td>\n",
              "      <td>0.000149</td>\n",
              "      <td>0.000594</td>\n",
              "      <td>0.000254</td>\n",
              "    </tr>\n",
              "    <tr>\n",
              "      <th>std</th>\n",
              "      <td>0.019953</td>\n",
              "      <td>0.014189</td>\n",
              "      <td>0.011884</td>\n",
              "      <td>0.012152</td>\n",
              "    </tr>\n",
              "    <tr>\n",
              "      <th>min</th>\n",
              "      <td>-0.164394</td>\n",
              "      <td>-0.137548</td>\n",
              "      <td>-0.172870</td>\n",
              "      <td>-0.096963</td>\n",
              "    </tr>\n",
              "    <tr>\n",
              "      <th>25%</th>\n",
              "      <td>-0.008449</td>\n",
              "      <td>-0.006146</td>\n",
              "      <td>-0.004603</td>\n",
              "      <td>-0.005546</td>\n",
              "    </tr>\n",
              "    <tr>\n",
              "      <th>50%</th>\n",
              "      <td>0.000000</td>\n",
              "      <td>0.000401</td>\n",
              "      <td>0.000832</td>\n",
              "      <td>0.000788</td>\n",
              "    </tr>\n",
              "    <tr>\n",
              "      <th>75%</th>\n",
              "      <td>0.008441</td>\n",
              "      <td>0.006952</td>\n",
              "      <td>0.005989</td>\n",
              "      <td>0.006442</td>\n",
              "    </tr>\n",
              "    <tr>\n",
              "      <th>max</th>\n",
              "      <td>0.137411</td>\n",
              "      <td>0.107068</td>\n",
              "      <td>0.166577</td>\n",
              "      <td>0.095513</td>\n",
              "    </tr>\n",
              "  </tbody>\n",
              "</table>\n",
              "</div>\n",
              "      <button class=\"colab-df-convert\" onclick=\"convertToInteractive('df-5934a7f1-3afd-47a6-b121-6dacd88a4b25')\"\n",
              "              title=\"Convert this dataframe to an interactive table.\"\n",
              "              style=\"display:none;\">\n",
              "        \n",
              "  <svg xmlns=\"http://www.w3.org/2000/svg\" height=\"24px\"viewBox=\"0 0 24 24\"\n",
              "       width=\"24px\">\n",
              "    <path d=\"M0 0h24v24H0V0z\" fill=\"none\"/>\n",
              "    <path d=\"M18.56 5.44l.94 2.06.94-2.06 2.06-.94-2.06-.94-.94-2.06-.94 2.06-2.06.94zm-11 1L8.5 8.5l.94-2.06 2.06-.94-2.06-.94L8.5 2.5l-.94 2.06-2.06.94zm10 10l.94 2.06.94-2.06 2.06-.94-2.06-.94-.94-2.06-.94 2.06-2.06.94z\"/><path d=\"M17.41 7.96l-1.37-1.37c-.4-.4-.92-.59-1.43-.59-.52 0-1.04.2-1.43.59L10.3 9.45l-7.72 7.72c-.78.78-.78 2.05 0 2.83L4 21.41c.39.39.9.59 1.41.59.51 0 1.02-.2 1.41-.59l7.78-7.78 2.81-2.81c.8-.78.8-2.07 0-2.86zM5.41 20L4 18.59l7.72-7.72 1.47 1.35L5.41 20z\"/>\n",
              "  </svg>\n",
              "      </button>\n",
              "      \n",
              "  <style>\n",
              "    .colab-df-container {\n",
              "      display:flex;\n",
              "      flex-wrap:wrap;\n",
              "      gap: 12px;\n",
              "    }\n",
              "\n",
              "    .colab-df-convert {\n",
              "      background-color: #E8F0FE;\n",
              "      border: none;\n",
              "      border-radius: 50%;\n",
              "      cursor: pointer;\n",
              "      display: none;\n",
              "      fill: #1967D2;\n",
              "      height: 32px;\n",
              "      padding: 0 0 0 0;\n",
              "      width: 32px;\n",
              "    }\n",
              "\n",
              "    .colab-df-convert:hover {\n",
              "      background-color: #E2EBFA;\n",
              "      box-shadow: 0px 1px 2px rgba(60, 64, 67, 0.3), 0px 1px 3px 1px rgba(60, 64, 67, 0.15);\n",
              "      fill: #174EA6;\n",
              "    }\n",
              "\n",
              "    [theme=dark] .colab-df-convert {\n",
              "      background-color: #3B4455;\n",
              "      fill: #D2E3FC;\n",
              "    }\n",
              "\n",
              "    [theme=dark] .colab-df-convert:hover {\n",
              "      background-color: #434B5C;\n",
              "      box-shadow: 0px 1px 3px 1px rgba(0, 0, 0, 0.15);\n",
              "      filter: drop-shadow(0px 1px 2px rgba(0, 0, 0, 0.3));\n",
              "      fill: #FFFFFF;\n",
              "    }\n",
              "  </style>\n",
              "\n",
              "      <script>\n",
              "        const buttonEl =\n",
              "          document.querySelector('#df-5934a7f1-3afd-47a6-b121-6dacd88a4b25 button.colab-df-convert');\n",
              "        buttonEl.style.display =\n",
              "          google.colab.kernel.accessAllowed ? 'block' : 'none';\n",
              "\n",
              "        async function convertToInteractive(key) {\n",
              "          const element = document.querySelector('#df-5934a7f1-3afd-47a6-b121-6dacd88a4b25');\n",
              "          const dataTable =\n",
              "            await google.colab.kernel.invokeFunction('convertToInteractive',\n",
              "                                                     [key], {});\n",
              "          if (!dataTable) return;\n",
              "\n",
              "          const docLinkHtml = 'Like what you see? Visit the ' +\n",
              "            '<a target=\"_blank\" href=https://colab.research.google.com/notebooks/data_table.ipynb>data table notebook</a>'\n",
              "            + ' to learn more about interactive tables.';\n",
              "          element.innerHTML = '';\n",
              "          dataTable['output_type'] = 'display_data';\n",
              "          await google.colab.output.renderOutput(dataTable, element);\n",
              "          const docLink = document.createElement('div');\n",
              "          docLink.innerHTML = docLinkHtml;\n",
              "          element.appendChild(docLink);\n",
              "        }\n",
              "      </script>\n",
              "    </div>\n",
              "  </div>\n",
              "  "
            ]
          },
          "metadata": {},
          "execution_count": 14
        }
      ]
    },
    {
      "cell_type": "markdown",
      "source": [
        "b. Calcule las estadísticas descriptivas (media, mediana, desv. estándar, curtosis, simetría) para cada uno de ellos. Presente los estadísticos en una tabla para todos los activos."
      ],
      "metadata": {
        "id": "pqVKg10IqlGj"
      }
    },
    {
      "cell_type": "markdown",
      "source": [
        "### Media"
      ],
      "metadata": {
        "id": "7NfKpOC8t9R2"
      }
    },
    {
      "cell_type": "code",
      "source": [
        "\n",
        "mean,sigma=retornos['GE'].mean(),retornos['GE'].std()\n",
        "mean,sigma\n",
        "mean*252,sigma*np.sqrt(252)"
      ],
      "metadata": {
        "colab": {
          "base_uri": "https://localhost:8080/"
        },
        "id": "j1-W3knequIA",
        "outputId": "5cad804d-89e9-49d8-a224-446ba831f526"
      },
      "execution_count": 17,
      "outputs": [
        {
          "output_type": "execute_result",
          "data": {
            "text/plain": [
              "(0.0063741448093599246, 0.3167450385392402)"
            ]
          },
          "metadata": {},
          "execution_count": 17
        }
      ]
    },
    {
      "cell_type": "code",
      "source": [
        "mean,sigma=retornos['IBM'].mean(),retornos['IBM'].std()\n",
        "mean,sigma\n",
        "mean*252,sigma*np.sqrt(252)"
      ],
      "metadata": {
        "colab": {
          "base_uri": "https://localhost:8080/"
        },
        "id": "iH9hdbbTtUGM",
        "outputId": "45d7ad78-0e74-4a42-b9ae-71e1397d8ccd"
      },
      "execution_count": 19,
      "outputs": [
        {
          "output_type": "execute_result",
          "data": {
            "text/plain": [
              "(0.0375985640868494, 0.22523565242006074)"
            ]
          },
          "metadata": {},
          "execution_count": 19
        }
      ]
    },
    {
      "cell_type": "code",
      "source": [
        "mean,sigma=retornos['MCD'].mean(),retornos['MCD'].std()\n",
        "mean,sigma\n",
        "mean*252,sigma*np.sqrt(252)"
      ],
      "metadata": {
        "colab": {
          "base_uri": "https://localhost:8080/"
        },
        "id": "6gSuPlN9tjjF",
        "outputId": "21ecfd0c-54dc-4363-edec-1f2109ddf1a2"
      },
      "execution_count": 20,
      "outputs": [
        {
          "output_type": "execute_result",
          "data": {
            "text/plain": [
              "(0.14972848260676647, 0.18865913561922082)"
            ]
          },
          "metadata": {},
          "execution_count": 20
        }
      ]
    },
    {
      "cell_type": "code",
      "source": [
        "mean,sigma=retornos['T'].mean(),retornos['T'].std()\n",
        "mean,sigma\n",
        "mean*252,sigma*np.sqrt(252)"
      ],
      "metadata": {
        "colab": {
          "base_uri": "https://localhost:8080/"
        },
        "id": "dowc95V-tn-o",
        "outputId": "9e0e28da-4853-4fab-d44e-2dae8c21d18f"
      },
      "execution_count": 21,
      "outputs": [
        {
          "output_type": "execute_result",
          "data": {
            "text/plain": [
              "(0.06413354087420498, 0.19290807479288619)"
            ]
          },
          "metadata": {},
          "execution_count": 21
        }
      ]
    },
    {
      "cell_type": "markdown",
      "source": [
        "### MEDIANA"
      ],
      "metadata": {
        "id": "bfQ13GuluBVZ"
      }
    },
    {
      "cell_type": "code",
      "source": [
        "median,sigma=retornos['GE'].median(),retornos['GE'].std()\n",
        "median,sigma\n",
        "median*252,sigma*np.sqrt(252)"
      ],
      "metadata": {
        "colab": {
          "base_uri": "https://localhost:8080/"
        },
        "id": "td6prJ4It018",
        "outputId": "17000a05-3dfc-4785-faad-9525974a2e36"
      },
      "execution_count": 49,
      "outputs": [
        {
          "output_type": "execute_result",
          "data": {
            "text/plain": [
              "(0.0, 0.3167450385392402)"
            ]
          },
          "metadata": {},
          "execution_count": 49
        }
      ]
    },
    {
      "cell_type": "code",
      "source": [
        "median,sigma=retornos['IBM'].median(),retornos['IBM'].std()\n",
        "median,sigma\n",
        "median*252,sigma*np.sqrt(252)"
      ],
      "metadata": {
        "colab": {
          "base_uri": "https://localhost:8080/"
        },
        "id": "9vk0rPQIuGIe",
        "outputId": "6c6c33f3-0f83-4224-cccb-9610e98dfef8"
      },
      "execution_count": 23,
      "outputs": [
        {
          "output_type": "execute_result",
          "data": {
            "text/plain": [
              "(0.10097211434050271, 0.22523565242006074)"
            ]
          },
          "metadata": {},
          "execution_count": 23
        }
      ]
    },
    {
      "cell_type": "code",
      "source": [
        "median,sigma=retornos['MCD'].median(),retornos['MCD'].std()\n",
        "median,sigma\n",
        "median*252,sigma*np.sqrt(252)"
      ],
      "metadata": {
        "colab": {
          "base_uri": "https://localhost:8080/"
        },
        "id": "eMZQUDbVuLGo",
        "outputId": "46137f7d-a955-420f-c9d5-8286be0a839b"
      },
      "execution_count": 24,
      "outputs": [
        {
          "output_type": "execute_result",
          "data": {
            "text/plain": [
              "(0.20976853649727858, 0.18865913561922082)"
            ]
          },
          "metadata": {},
          "execution_count": 24
        }
      ]
    },
    {
      "cell_type": "code",
      "source": [
        "median,sigma=retornos['T'].median(),retornos['T'].std()\n",
        "median,sigma\n",
        "median*252,sigma*np.sqrt(252)"
      ],
      "metadata": {
        "colab": {
          "base_uri": "https://localhost:8080/"
        },
        "id": "RoOxsJp0uNgp",
        "outputId": "525dea45-6910-485a-dbb8-99acdd65894c"
      },
      "execution_count": 25,
      "outputs": [
        {
          "output_type": "execute_result",
          "data": {
            "text/plain": [
              "(0.19865079673890873, 0.19290807479288619)"
            ]
          },
          "metadata": {},
          "execution_count": 25
        }
      ]
    },
    {
      "cell_type": "markdown",
      "source": [
        "### DESV. ESTANDAR "
      ],
      "metadata": {
        "id": "aXm_fXD-uXjg"
      }
    },
    {
      "cell_type": "code",
      "source": [
        "std,sigma=retornos['GE'].std(),retornos['GE'].std()\n",
        "std,sigma\n",
        "std*252,sigma*np.sqrt(252)"
      ],
      "metadata": {
        "colab": {
          "base_uri": "https://localhost:8080/"
        },
        "id": "j14z6EGrwoVL",
        "outputId": "d6f36802-6511-426a-8290-43bcdfd51de3"
      },
      "execution_count": 31,
      "outputs": [
        {
          "output_type": "execute_result",
          "data": {
            "text/plain": [
              "(5.028171605930393, 0.3167450385392402)"
            ]
          },
          "metadata": {},
          "execution_count": 31
        }
      ]
    },
    {
      "cell_type": "code",
      "source": [
        "std,sigma=retornos['IBM'].std(),retornos['IBM'].std()\n",
        "std,sigma\n",
        "std*252,sigma*np.sqrt(252)"
      ],
      "metadata": {
        "colab": {
          "base_uri": "https://localhost:8080/"
        },
        "id": "3H_2bRDA364_",
        "outputId": "d4d0df7c-590e-486c-830b-2f7ec58f3142"
      },
      "execution_count": 32,
      "outputs": [
        {
          "output_type": "execute_result",
          "data": {
            "text/plain": [
              "(3.5755051361331844, 0.22523565242006074)"
            ]
          },
          "metadata": {},
          "execution_count": 32
        }
      ]
    },
    {
      "cell_type": "code",
      "source": [
        "std,sigma=retornos['MCD'].std(),retornos['MCD'].std()\n",
        "std,sigma\n",
        "std*252,sigma*np.sqrt(252)"
      ],
      "metadata": {
        "colab": {
          "base_uri": "https://localhost:8080/"
        },
        "id": "W08ztsJP4AW3",
        "outputId": "353d18b4-577a-44cb-de32-f088fbff137b"
      },
      "execution_count": 33,
      "outputs": [
        {
          "output_type": "execute_result",
          "data": {
            "text/plain": [
              "(2.9948709324531952, 0.18865913561922082)"
            ]
          },
          "metadata": {},
          "execution_count": 33
        }
      ]
    },
    {
      "cell_type": "code",
      "source": [
        "std,sigma=retornos['T'].std(),retornos['T'].std()\n",
        "std,sigma\n",
        "std*252,sigma*np.sqrt(252)"
      ],
      "metadata": {
        "colab": {
          "base_uri": "https://localhost:8080/"
        },
        "id": "8zo1V88-4Dln",
        "outputId": "625c1df6-43d8-4834-c972-58f16147b56e"
      },
      "execution_count": 38,
      "outputs": [
        {
          "output_type": "execute_result",
          "data": {
            "text/plain": [
              "(3.062320750789348, 0.19290807479288619)"
            ]
          },
          "metadata": {},
          "execution_count": 38
        }
      ]
    },
    {
      "cell_type": "markdown",
      "source": [
        "### Curtosis"
      ],
      "metadata": {
        "id": "y3UOqsm74fRr"
      }
    },
    {
      "cell_type": "code",
      "source": [
        "kurt,sigma=retornos['GE'].kurt(),retornos['GE'].std()\n",
        "kurt,sigma\n",
        "kurt*252,sigma*np.sqrt(252)"
      ],
      "metadata": {
        "colab": {
          "base_uri": "https://localhost:8080/"
        },
        "id": "W12aG2SD7Hek",
        "outputId": "be7b7ff6-c183-431b-bac2-a5802d21209c"
      },
      "execution_count": 40,
      "outputs": [
        {
          "output_type": "execute_result",
          "data": {
            "text/plain": [
              "(2015.1430290332576, 0.3167450385392402)"
            ]
          },
          "metadata": {},
          "execution_count": 40
        }
      ]
    },
    {
      "cell_type": "code",
      "source": [
        "kurt,sigma=retornos['IBM'].kurt(),retornos['IBM'].std()\n",
        "kurt,sigma\n",
        "kurt*252,sigma*np.sqrt(252)"
      ],
      "metadata": {
        "colab": {
          "base_uri": "https://localhost:8080/"
        },
        "id": "JYBdmz928G50",
        "outputId": "586ed20b-58fb-4723-a28f-336ccf84ccbb"
      },
      "execution_count": 42,
      "outputs": [
        {
          "output_type": "execute_result",
          "data": {
            "text/plain": [
              "(2775.2543896157663, 0.22523565242006074)"
            ]
          },
          "metadata": {},
          "execution_count": 42
        }
      ]
    },
    {
      "cell_type": "code",
      "source": [
        "kurt,sigma=retornos['MCD'].kurt(),retornos['MCD'].std()\n",
        "kurt,sigma\n",
        "kurt*252,sigma*np.sqrt(252)"
      ],
      "metadata": {
        "colab": {
          "base_uri": "https://localhost:8080/"
        },
        "id": "PKY6BpPf8amW",
        "outputId": "9a3efb2e-9eea-4b44-9661-a7e02327068c"
      },
      "execution_count": 44,
      "outputs": [
        {
          "output_type": "execute_result",
          "data": {
            "text/plain": [
              "(8859.137426117273, 0.18865913561922082)"
            ]
          },
          "metadata": {},
          "execution_count": 44
        }
      ]
    },
    {
      "cell_type": "code",
      "source": [
        "kurt,sigma=retornos['T'].kurt(),retornos['T'].std()\n",
        "kurt,sigma\n",
        "kurt*252,sigma*np.sqrt(252)"
      ],
      "metadata": {
        "colab": {
          "base_uri": "https://localhost:8080/"
        },
        "id": "AHQT1Blf81xY",
        "outputId": "c185a3b7-64a7-40e2-9334-a8c54607027d"
      },
      "execution_count": 45,
      "outputs": [
        {
          "output_type": "execute_result",
          "data": {
            "text/plain": [
              "(2207.2021827524964, 0.19290807479288619)"
            ]
          },
          "metadata": {},
          "execution_count": 45
        }
      ]
    },
    {
      "cell_type": "markdown",
      "source": [
        "### Histograma del los activos: GE - IBM"
      ],
      "metadata": {
        "id": "8m2Z4krqQHij"
      }
    },
    {
      "cell_type": "code",
      "source": [
        "sbn.histplot(data=retornos, x=\"GE\", kde=True)"
      ],
      "metadata": {
        "colab": {
          "base_uri": "https://localhost:8080/",
          "height": 297
        },
        "id": "up2iPNcjDkuA",
        "outputId": "72eeae55-e6c0-4982-8e15-a2d0a7e348c5"
      },
      "execution_count": 63,
      "outputs": [
        {
          "output_type": "execute_result",
          "data": {
            "text/plain": [
              "<matplotlib.axes._subplots.AxesSubplot at 0x7f76dee8d150>"
            ]
          },
          "metadata": {},
          "execution_count": 63
        },
        {
          "output_type": "display_data",
          "data": {
            "text/plain": [
              "<Figure size 432x288 with 1 Axes>"
            ],
            "image/png": "[encoded data removed]"
          },
          "metadata": {
            "needs_background": "light"
          }
        }
      ]
    },
    {
      "cell_type": "code",
      "source": [
        "sbn.histplot(data=retornos, x=\"IBM\", kde=True)"
      ],
      "metadata": {
        "colab": {
          "base_uri": "https://localhost:8080/",
          "height": 296
        },
        "id": "sw1ZlWCwDnBR",
        "outputId": "3b33d1f8-735c-42f5-fe68-12dfeae27dec"
      },
      "execution_count": 64,
      "outputs": [
        {
          "output_type": "execute_result",
          "data": {
            "text/plain": [
              "<matplotlib.axes._subplots.AxesSubplot at 0x7f76dec264d0>"
            ]
          },
          "metadata": {},
          "execution_count": 64
        },
        {
          "output_type": "display_data",
          "data": {
            "text/plain": [
              "<Figure size 432x288 with 1 Axes>"
            ],
            "image/png": "[encoded data removed]"
          },
          "metadata": {
            "needs_background": "light"
          }
        }
      ]
    },
    {
      "cell_type": "markdown",
      "source": [
        "### Parkinson"
      ],
      "metadata": {
        "id": "4YGSAV3CDwJR"
      }
    },
    {
      "cell_type": "code",
      "source": [
        "lnHL = np.log(precios[\"GE\"]/precios[\"IBM\"]).dropna()\n",
        "sigmaPark_d = ((1/(4*np.log(2)))*lnHL**2)**0.5\n",
        "sigmaPark_d.plot()"
      ],
      "metadata": {
        "colab": {
          "base_uri": "https://localhost:8080/",
          "height": 286
        },
        "id": "3uIciOTPYrfX",
        "outputId": "e5b4d4ed-148a-4085-bdb7-3fa106ced7b5"
      },
      "execution_count": 68,
      "outputs": [
        {
          "output_type": "execute_result",
          "data": {
            "text/plain": [
              "<matplotlib.axes._subplots.AxesSubplot at 0x7f76df079710>"
            ]
          },
          "metadata": {},
          "execution_count": 68
        },
        {
          "output_type": "display_data",
          "data": {
            "text/plain": [
              "<Figure size 432x288 with 1 Axes>"
            ],
            "image/png": "[encoded data removed]"
          },
          "metadata": {
            "needs_background": "light"
          }
        }
      ]
    },
    {
      "cell_type": "markdown",
      "source": [
        "### Garman-Klass"
      ],
      "metadata": {
        "id": "SdjM4w9EfPwR"
      }
    },
    {
      "cell_type": "code",
      "source": [
        "lnHL = np.log(precios[\"GE\"]/precios[\"IBM\"]).dropna()\n",
        "lnCO = np.log(precios[\"GE\"]/precios[\"IBM\"]).dropna()\n",
        "sigmaGK_d = (0.5*lnHL**2-(2*np.log(2)-1)*lnCO**2)**0.5\n",
        "sigmaGK_d.plot()"
      ],
      "metadata": {
        "colab": {
          "base_uri": "https://localhost:8080/",
          "height": 286
        },
        "id": "XmIFto1ced80",
        "outputId": "3e4c44d9-0758-4928-d638-a25e6f2ef9c5"
      },
      "execution_count": 70,
      "outputs": [
        {
          "output_type": "execute_result",
          "data": {
            "text/plain": [
              "<matplotlib.axes._subplots.AxesSubplot at 0x7f76dee2d2d0>"
            ]
          },
          "metadata": {},
          "execution_count": 70
        },
        {
          "output_type": "display_data",
          "data": {
            "text/plain": [
              "<Figure size 432x288 with 1 Axes>"
            ],
            "image/png": "[encoded data removed]"
          },
          "metadata": {
            "needs_background": "light"
          }
        }
      ]
    },
    {
      "cell_type": "markdown",
      "source": [
        "### volatilidad ponderada  exponencial (EWMA) con una lambda de 0.94."
      ],
      "metadata": {
        "id": "UNyj1nlff5sY"
      }
    },
    {
      "cell_type": "code",
      "source": [
        "# Definir la función\n",
        "def EWMAvol(retornos,Lambda):\n",
        "  m = len(retornos) \n",
        "  b = np.arange(m-1,-1,-1) # secuencia decreciente\n",
        "  l = np.repeat(Lambda,m)\n",
        "\n",
        "  varewma = ((np.power(retornos,2)*(np.power(\"GE\",\"IBM\"))).sum())*(1-Lambda)\n",
        "  EWMAvol = np.sqrt(varewma)\n",
        "  return(EWMAvol)"
      ],
      "metadata": {
        "id": "v76aGi1sf7Xj"
      },
      "execution_count": 106,
      "outputs": []
    },
    {
      "cell_type": "code",
      "source": [
        "Lambda = 0.94\n"
      ],
      "metadata": {
        "id": "TRYBpXligGGj"
      },
      "execution_count": 104,
      "outputs": []
    },
    {
      "cell_type": "code",
      "source": [
        "Lambda = 0.94\n",
        "sigmaewma = EWMAvol(retornos,Lambda)*np.sqrt(252)\n",
        "sigmaewma"
      ],
      "metadata": {
        "id": "g8PARnjRm_9Z"
      },
      "execution_count": null,
      "outputs": []
    },
    {
      "cell_type": "code",
      "source": [
        " varewma = ((np.power(retornos,2)*(np.power(l,b))))*(1-0.94)\n",
        " varewma.plot()"
      ],
      "metadata": {
        "id": "-60g7wCL0TZw"
      },
      "execution_count": null,
      "outputs": []
    }
  ]
}